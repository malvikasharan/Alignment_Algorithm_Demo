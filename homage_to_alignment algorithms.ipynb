{
 "cells": [
  {
   "cell_type": "code",
   "execution_count": 1,
   "metadata": {
    "collapsed": true
   },
   "outputs": [],
   "source": [
    "%matplotlib inline"
   ]
  },
  {
   "cell_type": "markdown",
   "metadata": {},
   "source": [
    "# Sequence Alignment Algorithms\n",
    "\n",
    "- Sequence alignment algorithms are ways to **arrange two or many biological sequences** \n",
    "- They **identify regions of similarity** that may indicate to functional, structural, or evolutionary relationships between the sequences.\n",
    "\n",
    "\n",
    "## Biological information in arrays\n",
    "\n",
    "\n",
    "#### Data science in biology originated from the biological data stored in sequences"
   ]
  },
  {
   "cell_type": "markdown",
   "metadata": {},
   "source": [
    "### 3 main biological data types\n",
    "\n",
    "<img src=\"images/biological_seq-1.png\" width=\"500\">\n",
    "\n",
    "*Image soure: Shutter Stock* (adpated)"
   ]
  },
  {
   "cell_type": "markdown",
   "metadata": {},
   "source": [
    "### Central dogma of molecular biology\n",
    "\n",
    "<img src=\"images/biological_seq-2.png\" width=\"600\">\n",
    "\n",
    "*Image soure: Shutter Stock* (adapted)"
   ]
  },
  {
   "cell_type": "markdown",
   "metadata": {},
   "source": [
    "### ... explained in data terms\n",
    "\n",
    "<img src=\"images/biological_seq-3.png\" width=\"600\">\n",
    "\n",
    "*Image soure: Shutter Stock*  (adapted)"
   ]
  },
  {
   "cell_type": "markdown",
   "metadata": {
    "collapsed": true
   },
   "source": [
    "### More about Proteins\n",
    "\n",
    "- Proteins are class of chemicals in our body that **makes our body function**. \n",
    "- In a healthy individual, proteins make them **see, listen, walk and talk and think, process information**, and control immune response. \n",
    "- In **diseases** some these protein are **dysregulated**.\n",
    "\n",
    "<img src=\"images/human_protein-4.png\" width=\"300\">\n",
    "\n",
    "*Image source: [loxooncology](https://www.loxooncology.com/genomically-defined-cancers)*\n",
    "\n",
    "### Protein composition\n",
    "\n",
    "- Proteins are made up of different combinations of 20 amino acids. \n",
    "- Based on how they are arranged, their characters and functions are decided.\n",
    "\n",
    "<img src=\"images/protein-5.png\" width=\"300\">\n",
    "\n",
    "Image credit: *Wikimedia commons by LadyofHats* \n",
    "\n",
    "**Each amino acid (aa) is represented as a letter:**"
   ]
  },
  {
   "cell_type": "code",
   "execution_count": 2,
   "metadata": {
    "collapsed": true
   },
   "outputs": [],
   "source": [
    "amino_acid_list = ('A', 'C', 'D', 'E', 'F',\n",
    "                   'G', 'H', 'I', 'K', 'L',\n",
    "                   'M', 'N', 'P', 'Q', 'R',\n",
    "                   'S', 'T', 'V', 'W', 'Y')"
   ]
  },
  {
   "cell_type": "markdown",
   "metadata": {},
   "source": [
    "1. **Structural components**: Several amino acid in proteins are arranged closely, forming compact structures.\n",
    "2. **Disorder region**: Several amino acid don't form structures and exist as disorder region.\n",
    "\n",
    "<img src=\"images/protein_str-explained.png\" width=\"600\">\n",
    "\n",
    "Image credit: *Wikimedia commons by LadyofHats* "
   ]
  },
  {
   "cell_type": "markdown",
   "metadata": {},
   "source": [
    "**Role of protein composition**\n",
    "\n",
    "- Protein composition **determine their physics and chemical nature**.\n",
    "- It makes them function as **machines in different part of body** where it’s needed. "
   ]
  },
  {
   "cell_type": "markdown",
   "metadata": {
    "collapsed": true
   },
   "source": [
    "## Evolutionary biology\n",
    "\n",
    "- Study of evolutionary processes that **produced the diversity of life on Earth**, starting from a single common ancestor. \n",
    "    - **natural selection**, common descent, and speciation (origin of species).\n",
    "\n",
    "### Evolution of proteins\n",
    "\n",
    "- Process of change in the sequence composition\n",
    "- Studied by **comparing the sequences and structures** of proteins (*homologs*) from other organisms"
   ]
  },
  {
   "cell_type": "markdown",
   "metadata": {},
   "source": [
    "#### Example\n",
    "\n",
    "<img src=\"images/homolog-sized.png\">"
   ]
  },
  {
   "cell_type": "markdown",
   "metadata": {},
   "source": [
    "### Use of such comparative studies\n",
    "\n",
    "- observe pattern of conservation\n",
    "- identify common region that are present in both sequences\n",
    "- transfer functions, understand origin of these sequences etc."
   ]
  },
  {
   "cell_type": "markdown",
   "metadata": {},
   "source": [
    "### Complexity increases when comparing proteins with longer aa chains\n",
    "\n",
    "**Full length protein sequence of human P53**\n",
    "```\n",
    ">P53_HUMAN Cellular tumor antigen p53 OS=Homo sapiens length=393\n",
    "MEEPQSDPSVEPPLSQETFSDLWKLLPENNVLSPLPSQAMDDLMLSPDDIEQWFTEDPGP\n",
    "DEAPRMPEAAPPVAPAPAAPTPAAPAPAPSWPLSSSVPSQKTYQGSYGFRLGFLHSGTAK\n",
    "SVTCTYSPALNKMFCQLAKTCPVQLWVDSTPPPGTRVRAMAIYKQSQHMTEVVRRCPHHE\n",
    "RCSDSDGLAPPQHLIRVEGNLRVEYLDDRNTFRHSVVVPYEPPEVGSDCTTIHYNYMCNS\n",
    "SCMGGMNRRPILTIITLEDSSGNLLGRNSFEVRVCACPGRDRRTEEENLRKKGEPHHELP\n",
    "PGSTKRALPNNTSSSPQPKKKPLDGEYFTLQIRGRERFEMFRELNEALELKDAQAGKEPG\n",
    "GSRAHSSHLKSKKGQSTSRHKKLMFKTEGPDSD\n",
    "```\n",
    "\n",
    "**Full length protein sequence of mouse P53**\n",
    "```\n",
    ">P53_MOUSE Cellular tumor antigen p53 OS=Mus musculus length=390\n",
    "MTAMEESQSDISLELPLSQETFSGLWKLLPPEDILPSPHCMDDLLLPQDVEEFFEGPSEA\n",
    "LRVSGAPAAQDPVTETPGPVAPAPATPWPLSSFVPSQKTYQGNYGFHLGFLQSGTAKSVM\n",
    "CTYSPPLNKLFCQLAKTCPVQLWVSATPPAGSRVRAMAIYKKSQHMTEVVRRCPHHERCS\n",
    "DGDGLAPPQHLIRVEGNLYPEYLEDRQTFRHSVVVPYEPPEAGSEYTTIHYKYMCNSSCM\n",
    "GGMNRRPILTIITLEDSSGNLLGRDSFEVRVCACPGRDRRTEEENFRKKEVLCPELPPGS\n",
    "AKRALPTCTSASPPQKKKPLDGEYFTLKIRGRKRFEMFRELNEALELKDAHATEESGDSR\n",
    "AHSSYLKTKKGQSTSRHKKTMVKKVGPDSD\n",
    "```"
   ]
  },
  {
   "cell_type": "code",
   "execution_count": 3,
   "metadata": {
    "collapsed": true
   },
   "outputs": [],
   "source": [
    "# Example protein: P53: acts as a tumor suppressor in many cancers\n",
    "# Source: UniProt: https://www.uniprot.org/uniprot/P04637\n",
    "\n",
    "human_p53 = 'TFSDLWKLLPENNV' # first 10 aa of the full length (393 aa)\n",
    "mouse_p53 = 'SQETFSGLWKLLPP' # first 10 aa of the full length (390 aa)"
   ]
  },
  {
   "cell_type": "markdown",
   "metadata": {
    "collapsed": true
   },
   "source": [
    "# Protein Similary and Alignment Algorithms"
   ]
  },
  {
   "cell_type": "markdown",
   "metadata": {},
   "source": [
    "Protein sequences are aligned and their smiliarity is scored."
   ]
  },
  {
   "cell_type": "markdown",
   "metadata": {},
   "source": [
    "## Pairwise Alignments\n",
    "\n",
    "### **Global alignment: Needleman Wunsch Algorithm**\n",
    "\n",
    "- Assigns a score to every possible alignment\n",
    "- Finds alignments with highest score\n",
    "\n",
    "It was the first application of **dynamic programming** \n",
    "\n",
    "- simplifies a decision by breaking it down into smaller problems (all alignments)\n",
    "- finds optimal solution (best aligment)**Local alignment (Smith-Waterman algorithm)*"
   ]
  },
  {
   "cell_type": "code",
   "execution_count": 4,
   "metadata": {
    "collapsed": true
   },
   "outputs": [],
   "source": [
    "human_p53 = 'TFSDLWKLLPENNV'\n",
    "mouse_p53 = 'SQETFSGLWKLLPP'"
   ]
  },
  {
   "cell_type": "code",
   "execution_count": 5,
   "metadata": {
    "collapsed": true
   },
   "outputs": [],
   "source": [
    "import matplotlib.pyplot as plt\n",
    "import numpy as np\n",
    "import pandas as pd\n",
    "import seaborn as sns"
   ]
  },
  {
   "cell_type": "code",
   "execution_count": 6,
   "metadata": {
    "collapsed": false
   },
   "outputs": [],
   "source": [
    "def create_substution_matrix(residue_list, match_score=1,\n",
    "                             mismatch_score=-1):\n",
    "    '''\n",
    "    This function creates a substituion matrix for residues:\n",
    "\n",
    "    Arguments:\n",
    "    - residue_list:     A list of amino acid or dna/rna residues.\n",
    "    - match_score:      An integer number indicating match score. (default score = 1)\n",
    "    - mismatch_score:   An integer number indicating mismatch score. (default score = -1)\n",
    "    '''\n",
    "    scoring_matrix = pd.DataFrame(index=residue_list, columns=residue_list)\n",
    "    scoring_matrix = scoring_matrix.fillna(0)\n",
    "    for residue_col in residue_list:\n",
    "        for residue_row in residue_list:\n",
    "            if residue_col == residue_row:\n",
    "                scoring_matrix.loc[residue_col, residue_row] = match_score\n",
    "            else:\n",
    "                scoring_matrix.loc[residue_col, residue_row] = mismatch_score\n",
    "    return scoring_matrix\n",
    "\n",
    "scoring_matrix = create_substution_matrix(amino_acid_list)"
   ]
  },
  {
   "cell_type": "code",
   "execution_count": 7,
   "metadata": {
    "collapsed": false
   },
   "outputs": [
    {
     "data": {
      "image/png": "[encoded data removed]",
      "text/plain": [
       "<matplotlib.figure.Figure at 0x1a1faabc50>"
      ]
     },
     "metadata": {},
     "output_type": "display_data"
    }
   ],
   "source": [
    "def create_heatmap_from_matrix(matrix_name, filename='default', color='Blues'):\n",
    "    sns.set(rc={\"figure.figsize\":(12,8)})\n",
    "    df = pd.DataFrame(matrix_name)\n",
    "    g = sns.heatmap(df, annot=True, fmt='g', cmap=color)\n",
    "    if not filename == 'default':\n",
    "        g.get_figure().savefig(os.path.join(file_path, filename))\n",
    "create_heatmap_from_matrix(scoring_matrix)"
   ]
  },
  {
   "cell_type": "code",
   "execution_count": 8,
   "metadata": {
    "collapsed": false
   },
   "outputs": [
    {
     "name": "stdout",
     "output_type": "stream",
     "text": [
      "    0   S   Q   E   T   F   S   G  L  W   K   L   L   P   P\n",
      "0   0  -1  -2  -3  -4  -5  -6  -7 -8 -9 -10 -11 -12 -13 -14\n",
      "T  -1  -1  -2  -3  -2  -3  -4  -5 -6 -7  -8  -9 -10 -11 -12\n",
      "F  -2  -2  -2  -3  -3  -1  -2  -3 -4 -5  -6  -7  -8  -9 -10\n",
      "S  -3  -1  -2  -3  -4  -2   0  -1 -2 -3  -4  -5  -6  -7  -8\n",
      "D  -4  -2  -2  -3  -4  -3  -1  -1 -2 -3  -4  -5  -6  -7  -8\n",
      "L  -5  -3  -3  -3  -4  -4  -2  -2  0 -1  -2  -3  -4  -5  -6\n",
      "W  -6  -4  -4  -4  -4  -5  -3  -3 -1  1   0  -1  -2  -3  -4\n",
      "K  -7  -5  -5  -5  -5  -5  -4  -4 -2  0   2   1   0  -1  -2\n",
      "L  -8  -6  -6  -6  -6  -6  -5  -5 -3 -1   1   3   2   1   0\n",
      "L  -9  -7  -7  -7  -7  -7  -6  -6 -4 -2   0   2   4   3   2\n",
      "P -10  -8  -8  -8  -8  -8  -7  -7 -5 -3  -1   1   3   5   4\n",
      "E -11  -9  -9  -7  -8  -9  -8  -8 -6 -4  -2   0   2   4   4\n",
      "N -12 -10 -10  -8  -8  -9  -9  -9 -7 -5  -3  -1   1   3   3\n",
      "N -13 -11 -11  -9  -9  -9 -10 -10 -8 -6  -4  -2   0   2   2\n",
      "V -14 -12 -12 -10 -10 -10 -10 -11 -9 -7  -5  -3  -1   1   1\n"
     ]
    }
   ],
   "source": [
    "def create_dynamic_prog_matrix(seq1, seq2, scoring_matrix, \n",
    "                               gap_penalty=-1):\n",
    "    '''\n",
    "    This function creates a scorinf matrix for two \n",
    "    sequences using dynamic programming:\n",
    "\n",
    "    Arguments:\n",
    "    - seq1:            First amino acid sequence\n",
    "    - seq2:            Second amino acid sequence\n",
    "    - scoring_matrix:  Scoring matrix for amino acid\n",
    "    - gap_penalty:     An integer number indicating gap \n",
    "                       penalty/score. (default value = -1)\n",
    "    '''\n",
    "    index_list = [0]+list(seq1)\n",
    "    column_list = [0]+list(seq2)\n",
    "    dp_matrix = pd.DataFrame(index=index_list, columns=column_list)\n",
    "    dp_matrix = dp_matrix.fillna(0)\n",
    "    for i, residue_seq1 in enumerate(list(seq1)):\n",
    "        dp_matrix.iloc[i+1, 0] = (i+1)*-1\n",
    "        for j, residue_seq2 in enumerate(list(seq2)):\n",
    "            dp_matrix.iloc[0, j+1] = (j+1)*-1\n",
    "            dp_matrix.loc[residue_seq1,\n",
    "                          residue_seq2] = scoring_matrix.loc[\n",
    "                              residue_seq1, residue_seq2]\n",
    "    scored_dp_matrix = _calculate_alignment_scores(dp_matrix, gap_penalty)\n",
    "    return scored_dp_matrix\n",
    "\n",
    "def _calculate_alignment_scores(dp_matrix, gap_penalty):\n",
    "    for i, rows in enumerate(dp_matrix.index.values):\n",
    "        if not rows == 0:\n",
    "            for j, cols in enumerate(dp_matrix.columns.values):\n",
    "                if  not cols == 0:\n",
    "                    current_score = dp_matrix.iloc[i, j]\n",
    "                    left_score = dp_matrix.iloc[i, j-1] + gap_penalty\n",
    "                    up_score = dp_matrix.iloc[i-1, j] + gap_penalty\n",
    "                    diag_score = dp_matrix.iloc[i-1, j-1] + current_score\n",
    "                    high_score = max([left_score, up_score, diag_score])\n",
    "                    dp_matrix.iloc[i, j] = high_score\n",
    "    return(dp_matrix)\n",
    "\n",
    "scored_dp_matrix = create_dynamic_prog_matrix(human_p53, mouse_p53,\n",
    "                                               scoring_matrix)\n",
    "print(scored_dp_matrix)"
   ]
  },
  {
   "cell_type": "code",
   "execution_count": 9,
   "metadata": {
    "collapsed": false
   },
   "outputs": [
    {
     "name": "stdout",
     "output_type": "stream",
     "text": [
      "Trackback type:\n",
      "\n",
      "diagonal_mismatch\n",
      "up\n",
      "up\n",
      "up\n",
      "diagonal_match\n",
      "diagonal_match\n",
      "diagonal_match\n",
      "diagonal_match\n",
      "diagonal_match\n",
      "diagonal_match\n",
      "diagonal_mismatch\n",
      "diagonal_match\n",
      "diagonal_match\n",
      "\n",
      "Total aligned positions: 11\n"
     ]
    }
   ],
   "source": [
    "def trace_best_alignment(scored_dp_matrix, match_score=1,\n",
    "                         mismatch_score=-1, gap_penalty=-1):\n",
    "    '''\n",
    "    This function traces back the best alignment.\n",
    "    Diagonal arrow is a match or mismatch. Horizontal arrows introduce\n",
    "    gap (\"-\") in the row and vertical arrows introduce gaps in the column.\n",
    "\n",
    "    Arguments:\n",
    "    - scored_dp_matrix:     scored matrix for two sequences.\n",
    "    - match_score:          An integer number indicating match score. \n",
    "                            (default score = 1)\n",
    "    - mismatch_score:       An integer number indicating mismatch score. \n",
    "                            (default score = -1)\n",
    "    - gap_penalty:          An integer number indicating gap penalty/score. \n",
    "                            (default score = -1)\n",
    "    '''\n",
    "    i = len(scored_dp_matrix.index.values)-1\n",
    "    j = len(scored_dp_matrix.columns.values)-1\n",
    "    row_residue_list = []\n",
    "    col_residue_list = []\n",
    "    match_positions = []\n",
    "    print(\"Trackback type:\\n\")\n",
    "    while i > 0 and j > 0:\n",
    "        \n",
    "        current_score = scored_dp_matrix.iloc[i, j]\n",
    "        left_score = scored_dp_matrix.iloc[i, j-1]\n",
    "        up_score = scored_dp_matrix.iloc[i-1, j]\n",
    "        diag_score = scored_dp_matrix.iloc[i-1, j-1]\n",
    "        row_val = scored_dp_matrix.index.values[i]\n",
    "        col_val = scored_dp_matrix.columns.values[j]\n",
    "        trackback_type = \"\"  \n",
    "        if i > 1 and j > 1 and (current_score == diag_score + match_score and row_val == col_val):\n",
    "            trackback_type = \"diagonal_match\"\n",
    "            row_val = scored_dp_matrix.index.values[i]\n",
    "            col_val = scored_dp_matrix.columns.values[j]\n",
    "            i -= 1\n",
    "            j -= 1\n",
    "            match_positions.append(row_val)\n",
    "        elif i > 1 and j > 1 and (current_score == diag_score + mismatch_score and row_val != col_val):\n",
    "            trackback_type = \"diagonal_mismatch\"\n",
    "            row_val = scored_dp_matrix.index.values[i]\n",
    "            col_val = scored_dp_matrix.columns.values[j]\n",
    "            i -= 1\n",
    "            j -= 1\n",
    "            match_positions.append(row_val)\n",
    "        elif i > 0 and (current_score == up_score + gap_penalty):\n",
    "            trackback_type = \"up\"\n",
    "            row_val = scored_dp_matrix.index.values[i]\n",
    "            col_val = '-'\n",
    "            i -= 1\n",
    "            # match_Score -= 1\n",
    "        elif j > 0 and (current_score == left_score + gap_penalty):\n",
    "            trackback_type = \"left\"\n",
    "            col_val = scored_dp_matrix.columns.values[j]\n",
    "            row_val = '-'\n",
    "            j -= 1\n",
    "            # match_Score -= 1\n",
    "        else:\n",
    "            row_val = scored_dp_matrix.index.values[i]\n",
    "            col_val = scored_dp_matrix.columns.values[j]\n",
    "            i -= 1\n",
    "            j -= 1\n",
    "            match_positions.append(row_val)\n",
    "        print(trackback_type)\n",
    "        row_residue_list.append(row_val)\n",
    "        col_residue_list.append(col_val)\n",
    "    print(\"Total aligned positions: {}\".format(len(match_positions)))\n",
    "    col_seq = ''.join(map(str, col_residue_list[::-1]))\n",
    "    row_seq = ''.join(map(str, row_residue_list[::-1]))\n",
    "    return col_seq, row_seq\n",
    "aligned_seq1, aligned_seq2 = trace_best_alignment(scored_dp_matrix)"
   ]
  },
  {
   "cell_type": "code",
   "execution_count": 19,
   "metadata": {
    "collapsed": false
   },
   "outputs": [
    {
     "name": "stdout",
     "output_type": "stream",
     "text": [
      "Optimal global alignment of the given sequences is:\n",
      "TFSGLWKLLPP---\n",
      "TFSDLWKLLPENNV\n"
     ]
    },
    {
     "data": {
      "image/png": "[encoded data removed]",
      "text/plain": [
       "<matplotlib.figure.Figure at 0x1a206dd6d8>"
      ]
     },
     "metadata": {},
     "output_type": "display_data"
    }
   ],
   "source": [
    "print('Optimal global alignment of the given sequences is:\\n{}\\n{}'.format(\n",
    "    aligned_seq1, aligned_seq2))\n",
    "create_heatmap_from_matrix(scored_dp_matrix)"
   ]
  },
  {
   "cell_type": "markdown",
   "metadata": {},
   "source": [
    "### Substituion Matrix for Proteins\n",
    "\n",
    "A substitution matrix used for sequence alignment of proteins are used to score alignments between evolutionarily divergent protein sequences. The most popular metrices is BLOSUM (BLOcks SUbstitution Matrix) matrix, [provided by NCBI](https://www.ncbi.nlm.nih.gov/Class/BLAST/BLOSUM62.txt).\n",
    "\n",
    "This matrix gives a similarity score to appropriately align similar (even when not identical) aa based on their bio-chemical properties."
   ]
  },
  {
   "cell_type": "code",
   "execution_count": 1,
   "metadata": {
    "collapsed": false
   },
   "outputs": [
    {
     "name": "stdout",
     "output_type": "stream",
     "text": [
      "#  Matrix made by matblas from blosum62.iij\n",
      "#  * column uses minimum score\n",
      "#  BLOSUM Clustered Scoring Matrix in 1/2 Bit Units\n",
      "#  Blocks Database = /data/blocks_5.0/blocks.dat\n",
      "#  Cluster Percentage: >= 62\n",
      "#  Entropy =   0.6979, Expected =  -0.5209\n",
      " A  R  N  D  C  Q  E  G  H  I  L  K  M  F  P  S  T  W  Y  V  B  Z  X  *\n",
      " 4 -1 -2 -2  0 -1 -1  0 -2 -1 -1 -1 -1 -2 -1  1  0 -3 -2  0 -2 -1  0 -4 \n",
      "-1  5  0 -2 -3  1  0 -2  0 -3 -2  2 -1 -3 -2 -1 -1 -3 -2 -3 -1  0 -1 -4 \n",
      "-2  0  6  1 -3  0  0  0  1 -3 -3  0 -2 -3 -2  1  0 -4 -2 -3  3  0 -1 -4 \n",
      "-2 -2  1  6 -3  0  2 -1 -1 -3 -4 -1 -3 -3 -1  0 -1 -4 -3 -3  4  1 -1 -4 \n",
      " 0 -3 -3 -3  9 -3 -4 -3 -3 -1 -1 -3 -1 -2 -3 -1 -1 -2 -2 -1 -3 -3 -2 -4 \n",
      "-1  1  0  0 -3  5  2 -2  0 -3 -2  1  0 -3 -1  0 -1 -2 -1 -2  0  3 -1 -4 \n",
      "-1  0  0  2 -4  2  5 -2  0 -3 -3  1 -2 -3 -1  0 -1 -3 -2 -2  1  4 -1 -4 \n",
      " 0 -2  0 -1 -3 -2 -2  6 -2 -4 -4 -2 -3 -3 -2  0 -2 -2 -3 -3 -1 -2 -1 -4 \n",
      "-2  0  1 -1 -3  0  0 -2  8 -3 -3 -1 -2 -1 -2 -1 -2 -2  2 -3  0  0 -1 -4 \n",
      "-1 -3 -3 -3 -1 -3 -3 -4 -3  4  2 -3  1  0 -3 -2 -1 -3 -1  3 -3 -3 -1 -4 \n",
      "-1 -2 -3 -4 -1 -2 -3 -4 -3  2  4 -2  2  0 -3 -2 -1 -2 -1  1 -4 -3 -1 -4 \n",
      "-1  2  0 -1 -3  1  1 -2 -1 -3 -2  5 -1 -3 -1  0 -1 -3 -2 -2  0  1 -1 -4 \n",
      "-1 -1 -2 -3 -1  0 -2 -3 -2  1  2 -1  5  0 -2 -1 -1 -1 -1  1 -3 -1 -1 -4 \n",
      "-2 -3 -3 -3 -2 -3 -3 -3 -1  0  0 -3  0  6 -4 -2 -2  1  3 -1 -3 -3 -1 -4 \n",
      "-1 -2 -2 -1 -3 -1 -1 -2 -2 -3 -3 -1 -2 -4  7 -1 -1 -4 -3 -2 -2 -1 -2 -4 \n",
      " 1 -1  1  0 -1  0  0  0 -1 -2 -2  0 -1 -2 -1  4  1 -3 -2 -2  0  0  0 -4 \n",
      " 0 -1  0 -1 -1 -1 -1 -2 -2 -1 -1 -1 -1 -2 -1  1  5 -2 -2  0 -1 -1  0 -4 \n",
      "-3 -3 -4 -4 -2 -2 -3 -2 -2 -3 -2 -3 -1  1 -4 -3 -2 11  2 -3 -4 -3 -2 -4 \n",
      "-2 -2 -2 -3 -2 -1 -2 -3  2 -1 -1 -2 -1  3 -3 -2 -2  2  7 -1 -3 -2 -1 -4 \n",
      " 0 -3 -3 -3 -1 -2 -2 -3 -3  3  1 -2  1 -1 -2 -2  0 -3 -1  4 -3 -2 -1 -4 \n",
      "-2 -1  3  4 -3  0  1 -1  0 -3 -4  0 -3 -3 -2  0 -1 -4 -3 -3  4  0 -1 -4 \n",
      "-1  0  0  1 -3  3  4 -2  0 -3 -3  1 -1 -3 -1  0 -1 -3 -2 -2  0  4 -1 -4 \n",
      " 0 -1 -1 -1 -2 -1 -1 -1 -1 -1 -1 -1 -1 -1 -2  0  0 -2 -1 -1 -1 -1 -1 -4 \n",
      "-4 -4 -4 -4 -4 -4 -4 -4 -4 -4 -4 -4 -4 -4 -4 -4 -4 -4 -4 -4 -4 -4 -4  1 \n",
      "\n"
     ]
    }
   ],
   "source": [
    "with open('blosum62.txt', 'r') as in_fh:\n",
    "    print(in_fh.read())"
   ]
  },
  {
   "cell_type": "code",
   "execution_count": 17,
   "metadata": {
    "collapsed": false
   },
   "outputs": [
    {
     "name": "stdout",
     "output_type": "stream",
     "text": [
      "   A  R  N  D  C  Q  E  G  H  I ...  P  S  T   W  Y  V  B  Z  X  *\n",
      "A  4 -1 -2 -2  0 -1 -1  0 -2 -1 ... -1  1  0  -3 -2  0 -2 -1  0 -4\n",
      "R -1  5  0 -2 -3  1  0 -2  0 -3 ... -2 -1 -1  -3 -2 -3 -1  0 -1 -4\n",
      "N -2  0  6  1 -3  0  0  0  1 -3 ... -2  1  0  -4 -2 -3  3  0 -1 -4\n",
      "D -2 -2  1  6 -3  0  2 -1 -1 -3 ... -1  0 -1  -4 -3 -3  4  1 -1 -4\n",
      "C  0 -3 -3 -3  9 -3 -4 -3 -3 -1 ... -3 -1 -1  -2 -2 -1 -3 -3 -2 -4\n",
      "Q -1  1  0  0 -3  5  2 -2  0 -3 ... -1  0 -1  -2 -1 -2  0  3 -1 -4\n",
      "E -1  0  0  2 -4  2  5 -2  0 -3 ... -1  0 -1  -3 -2 -2  1  4 -1 -4\n",
      "G  0 -2  0 -1 -3 -2 -2  6 -2 -4 ... -2  0 -2  -2 -3 -3 -1 -2 -1 -4\n",
      "H -2  0  1 -1 -3  0  0 -2  8 -3 ... -2 -1 -2  -2  2 -3  0  0 -1 -4\n",
      "I -1 -3 -3 -3 -1 -3 -3 -4 -3  4 ... -3 -2 -1  -3 -1  3 -3 -3 -1 -4\n",
      "L -1 -2 -3 -4 -1 -2 -3 -4 -3  2 ... -3 -2 -1  -2 -1  1 -4 -3 -1 -4\n",
      "K -1  2  0 -1 -3  1  1 -2 -1 -3 ... -1  0 -1  -3 -2 -2  0  1 -1 -4\n",
      "M -1 -1 -2 -3 -1  0 -2 -3 -2  1 ... -2 -1 -1  -1 -1  1 -3 -1 -1 -4\n",
      "F -2 -3 -3 -3 -2 -3 -3 -3 -1  0 ... -4 -2 -2   1  3 -1 -3 -3 -1 -4\n",
      "P -1 -2 -2 -1 -3 -1 -1 -2 -2 -3 ...  7 -1 -1  -4 -3 -2 -2 -1 -2 -4\n",
      "S  1 -1  1  0 -1  0  0  0 -1 -2 ... -1  4  1  -3 -2 -2  0  0  0 -4\n",
      "T  0 -1  0 -1 -1 -1 -1 -2 -2 -1 ... -1  1  5  -2 -2  0 -1 -1  0 -4\n",
      "W -3 -3 -4 -4 -2 -2 -3 -2 -2 -3 ... -4 -3 -2  11  2 -3 -4 -3 -2 -4\n",
      "Y -2 -2 -2 -3 -2 -1 -2 -3  2 -1 ... -3 -2 -2   2  7 -1 -3 -2 -1 -4\n",
      "V  0 -3 -3 -3 -1 -2 -2 -3 -3  3 ... -2 -2  0  -3 -1  4 -3 -2 -1 -4\n",
      "B -2 -1  3  4 -3  0  1 -1  0 -3 ... -2  0 -1  -4 -3 -3  4  0 -1 -4\n",
      "Z -1  0  0  1 -3  3  4 -2  0 -3 ... -1  0 -1  -3 -2 -2  0  4 -1 -4\n",
      "X  0 -1 -1 -1 -2 -1 -1 -1 -1 -1 ... -2  0  0  -2 -1 -1 -1 -1 -1 -4\n",
      "* -4 -4 -4 -4 -4 -4 -4 -4 -4 -4 ... -4 -4 -4  -4 -4 -4 -4 -4 -4  1\n",
      "\n",
      "[24 rows x 24 columns]\n"
     ]
    }
   ],
   "source": [
    "# Format BLOSUM subsitution file to pandas matrix\n",
    "\n",
    "def read_blosum_file_to_matrix(blosum_file):\n",
    "    '''\n",
    "    Creates a matrix from NCBI BLOSUM file.\n",
    "\n",
    "    Arguments:\n",
    "    - blosum_file:     provide local file BLOSUM substitution matrix.\n",
    "                       (Download the current version: \n",
    "                        https://www.ncbi.nlm.nih.gov/Class/BLAST/BLOSUM62.txt)\n",
    "    '''\n",
    "                \n",
    "    header_list= ['A', 'R', 'N', 'D', 'C', 'Q',\n",
    "                      'E', 'G', 'H', 'I', 'L', 'K', \n",
    "                      'M', 'F', 'P', 'S', 'T', 'W', \n",
    "                      'Y', 'V', 'B', 'Z', 'X', '*'] # * is gap\n",
    "    blosum = pd.read_csv(blosum_file, skiprows=6, delim_whitespace=True)\n",
    "    blosum = blosum.replace('NaN', 0)\n",
    "    blosum.columns = header_list\n",
    "    blosum.index = header_list\n",
    "    return blosum\n",
    "blosum = read_blosum_file_to_matrix('blosum62.txt')\n",
    "print(blosum)"
   ]
  },
  {
   "cell_type": "code",
   "execution_count": 13,
   "metadata": {
    "collapsed": false
   },
   "outputs": [
    {
     "name": "stdout",
     "output_type": "stream",
     "text": [
      "    0   S   Q   E   T   F   S   G   L   W   K   L   L   P   P\n",
      "0   0  -1  -2  -3  -4  -5  -6  -7  -8  -9 -10 -11 -12 -13 -14\n",
      "T  -1   1  -2  -3   2  -2  -4  -8  -8 -10 -10 -11 -12 -13 -14\n",
      "F  -2  -3  -2  -5  -2   8   4   0  -4  -7 -11 -10 -11 -15 -17\n",
      "S  -3   2  -2  -2  -4   4  12   8   4   0  -4  -8 -12 -12 -16\n",
      "D  -4  -2   2   0  -3   0   8  11   7   3  -1  -5  -9 -13 -13\n",
      "L  -5  -6  -2  -1  -1  -3   4   7  15  11   7   3  -1  -5  -9\n",
      "W  -6  -8  -6  -5  -3   0   0   3  11  26  22  18  14  10   6\n",
      "K  -7  -6  -7  -5  -6  -4   0  -1   7  22  31  27  23  19  15\n",
      "L  -8  -9  -8  -9  -6  -6  -4  -4   3  18  27  35  31  27  23\n",
      "L  -9 -10 -11 -11 -10  -6  -8  -8   0  14  23  31  39  35  31\n",
      "P -10 -10 -11 -12 -12 -10  -7 -10  -4  10  19  27  35  46  42\n",
      "E -11 -10  -8  -6 -10 -14 -10  -9  -8   6  15  23  31  42  45\n",
      "N -12 -10 -10  -8  -6 -10 -13 -10 -12   2  11  19  27  38  41\n",
      "N -13 -11 -10 -10  -8  -9  -9 -13 -13  -2   7  15  23  34  37\n",
      "V -14 -15 -13 -12 -10  -9 -11 -12 -12  -6   3  11  19  30  33\n"
     ]
    }
   ],
   "source": [
    "## Calling the function create_dynamic_prog_matrix \n",
    "# with blosum substituion matrix and gap penalty -4\n",
    "\n",
    "scored_dp_matrix_blosum = create_dynamic_prog_matrix(\n",
    "                            human_p53, mouse_p53, \n",
    "                            blosum, gap_penalty=-4)\n",
    "print(scored_dp_matrix_blosum)"
   ]
  },
  {
   "cell_type": "code",
   "execution_count": 14,
   "metadata": {
    "collapsed": true
   },
   "outputs": [],
   "source": [
    "## Edited the previous function trace_best_alignment \n",
    "## by removing match and mismatch score\n",
    "\n",
    "def trace_best_alignment_with_blosum(scored_dp_matrix, gap_penalty=-4):\n",
    "    '''\n",
    "    This function traces back the best alignment.\n",
    "    Diagonal arrow is a match or mismatch. Horizontal arrows introduce\n",
    "    gap (\"-\") in the row and vertical arrows introduce gaps in the column.\n",
    "\n",
    "    Arguments:\n",
    "    - scored_dp_matrix:   scored matrix for two sequences.\n",
    "    - gap_penalty:        An integer number indicating gap penalty/score. \n",
    "                          (default gap penalty in NCBI BLOSUM62 = -4)\n",
    "    '''\n",
    "    i = len(scored_dp_matrix.index.values)-1\n",
    "    j = len(scored_dp_matrix.columns.values)-1\n",
    "    row_residue_list = []\n",
    "    col_residue_list = []\n",
    "    match_positions = []\n",
    "    print(\"\\nTrackback type:\")\n",
    "    while i > 0 and j > 0:\n",
    "        current_score = scored_dp_matrix.iloc[i, j]\n",
    "        left_score = scored_dp_matrix.iloc[i, j-1]\n",
    "        up_score = scored_dp_matrix.iloc[i-1, j]\n",
    "        diag_score = scored_dp_matrix.iloc[i-1, j-1]\n",
    "        row_val = scored_dp_matrix.index.values[i]\n",
    "        col_val = scored_dp_matrix.columns.values[j]\n",
    "        trackback_type = \"\"  \n",
    "        if i > 1 and j > 1 and current_score == diag_score:\n",
    "            trackback_type = \"diagonal_match\"\n",
    "            row_val = scored_dp_matrix.index.values[i]\n",
    "            col_val = scored_dp_matrix.columns.values[j]\n",
    "            i -= 1\n",
    "            j -= 1\n",
    "            match_positions.append(row_val)\n",
    "        elif i > 0 and (current_score == up_score + gap_penalty):\n",
    "            trackback_type = \"up\"\n",
    "            row_val = scored_dp_matrix.index.values[i]\n",
    "            col_val = '-'\n",
    "            i -= 1\n",
    "        elif j > 0 and (current_score == left_score + gap_penalty):\n",
    "            trackback_type = \"left\"\n",
    "            col_val = scored_dp_matrix.columns.values[j]\n",
    "            row_val = '-'\n",
    "            j -= 1\n",
    "        else:\n",
    "            trackback_type = \"diagonal_match\"\n",
    "            row_val = scored_dp_matrix.index.values[i]\n",
    "            col_val = scored_dp_matrix.columns.values[j]\n",
    "            i -= 1\n",
    "            j -= 1\n",
    "            match_positions.append(row_val)\n",
    "        print(trackback_type)\n",
    "        row_residue_list.append(row_val)\n",
    "        col_residue_list.append(col_val)\n",
    "    print(\"\\nTotal aligned positions: {}\".format(len(match_positions)))\n",
    "    col_seq = ''.join(map(str, col_residue_list[::-1]))\n",
    "    row_seq = ''.join(map(str, row_residue_list[::-1]))\n",
    "    return col_seq, row_seq"
   ]
  },
  {
   "cell_type": "code",
   "execution_count": 18,
   "metadata": {
    "collapsed": false
   },
   "outputs": [
    {
     "name": "stdout",
     "output_type": "stream",
     "text": [
      "Input sequences:\n",
      "SQETFSGLWKLLPP\n",
      "TFSDLWKLLPENNV\n",
      "\n",
      "Trackback type:\n",
      "up\n",
      "up\n",
      "up\n",
      "diagonal_match\n",
      "diagonal_match\n",
      "diagonal_match\n",
      "diagonal_match\n",
      "diagonal_match\n",
      "diagonal_match\n",
      "diagonal_match\n",
      "diagonal_match\n",
      "diagonal_match\n",
      "diagonal_match\n",
      "diagonal_match\n",
      "\n",
      "Total aligned positions: 11\n",
      "Optimal global alignment of the given sequences using BLOSUM62 is:\n",
      "TFSGLWKLLPP---\n",
      "TFSDLWKLLPENNV\n"
     ]
    },
    {
     "data": {
      "image/png": "[encoded data removed]",
      "text/plain": [
       "<matplotlib.figure.Figure at 0x1a2084fc88>"
      ]
     },
     "metadata": {},
     "output_type": "display_data"
    }
   ],
   "source": [
    "print('Input sequences:\\n{}\\n{}'.format(mouse_p53, human_p53))\n",
    "aligned_seq1, aligned_seq2 = trace_best_alignment_with_blosum(scored_dp_matrix_blosum)\n",
    "print('Optimal global alignment of the given sequences using BLOSUM62 is:\\n{}\\n{}'.format(\n",
    "    aligned_seq1, aligned_seq2))\n",
    "create_heatmap_from_matrix(scored_dp_matrix_blosum)"
   ]
  },
  {
   "cell_type": "markdown",
   "metadata": {},
   "source": [
    "### Local Alignment:  Smith–Waterman Algorithm\n",
    "\n",
    "A local alignment, instead of global alignment can be carried out to **finds subsequences** (rather than full length) that align the best.\n",
    "\n",
    "**Smith–Waterman algorithm** compares segments of all possible lengths and optimizes the similarity score rather than comparing the entire length."
   ]
  },
  {
   "cell_type": "markdown",
   "metadata": {},
   "source": [
    "- It is a dynamic programming algorithm, and a **variation of Needleman-Wunsch** (Global) alignment algorithm.\n",
    "- It **sets negative scoring matrix cells to zero**, which makes local alignments visible.\n",
    "- **Traceback starts at the highest scoring matrix** cell and proceeds until a cell with score zero is encountered. \n",
    "- It has a much higher complexity in time and space, and often cannot be applied to large-scale problems."
   ]
  },
  {
   "cell_type": "markdown",
   "metadata": {},
   "source": [
    "### The Biopython Community\n",
    "\n",
    "Thanks to the very active bioinformatics community of volunteers who have developed, improved and maintained the freely available Python package [Biopython](https://biopython.org/) ([License](https://github.com/biopython/biopython/blob/master/LICENSE.rst)).\n",
    "\n",
    "The Biopython tools for biological computation (including the different algorithms to handle biological sequences) allows the reproducibility of results obtained from different softwares."
   ]
  },
  {
   "cell_type": "code",
   "execution_count": 16,
   "metadata": {
    "collapsed": false
   },
   "outputs": [
    {
     "data": {
      "text/plain": [
       "[('---TFSD-LWKLLPENNV', 'SQETFS-GLWKLLP---P', 9.0, 3, 18),\n",
       " ('---TFSDLWKLLPENNV', 'SQETFSGLWKLLP---P', 9.0, 3, 17),\n",
       " ('---TFSD-LWKLLPENNV', 'SQETFS-GLWKLLP--P-', 9.0, 3, 17),\n",
       " ('---TFSDLWKLLPENNV', 'SQETFSGLWKLLP--P-', 9.0, 3, 16),\n",
       " ('---TFSD-LWKLLPENNV', 'SQETFS-GLWKLLP-P--', 9.0, 3, 16),\n",
       " ('---TFSDLWKLLPENNV', 'SQETFSGLWKLLP-P--', 9.0, 3, 15),\n",
       " ('---TFSD-LWKLLPENNV', 'SQETFS-GLWKLLPP---', 9.0, 3, 15),\n",
       " ('---TFSDLWKLLPENNV', 'SQETFSGLWKLLPP---', 9.0, 3, 14),\n",
       " ('---TFSD-LWKLL-PENNV', 'SQETFS-GLWKLLPP----', 9.0, 3, 15),\n",
       " ('---TFSDLWKLL-PENNV', 'SQETFSGLWKLLPP----', 9.0, 3, 14),\n",
       " ('---TFSD-LWKLLPENNV', 'SQETFS-GLWKLLPP---', 9.0, 3, 14),\n",
       " ('---TFSDLWKLLPENNV', 'SQETFSGLWKLLPP---', 9.0, 3, 13)]"
      ]
     },
     "execution_count": 16,
     "metadata": {},
     "output_type": "execute_result"
    }
   ],
   "source": [
    "from Bio import pairwise2\n",
    "\n",
    "alignments = pairwise2.align.localxx(human_p53, mouse_p53)\n",
    "alignments"
   ]
  },
  {
   "cell_type": "markdown",
   "metadata": {},
   "source": []
  },
  {
   "cell_type": "markdown",
   "metadata": {},
   "source": [
    "### Multiple Sequence Alignment\n",
    "\n",
    "\n",
    "> ***One or two homologous sequences whisper...a full multiple alignment shouts\n",
    "out loud*** - Arthur M. Lesk, Penn State University\n",
    "\n",
    "Alignment carried out for multiple biological sequences (computationally).\n",
    "\n",
    "- Multiple alignment is a process of arranging multiple sequences to compare them and identify similar regions.\n",
    "- It indicates degree of sequence conservation:\n",
    "    - Evolutionary relationship\n",
    "    - Structurally and functionally important region\n",
    "    \n",
    "<img src=\"images/msa_clustal.png\" width=\"800\">\n",
    "\n",
    "*Created by CLUSTAL Omega, the **highest cited Bioinformatics tools***\n",
    "\n",
    "**Position Specific Scoring Matrix**\n",
    "\n",
    "- The scoring is carried out by counting the occurrences of each nucleotide at each position.\n",
    "\n",
    "<img src=\"images/pssm.png\" width=\"500\">\n",
    "\n",
    "*Image: http://player.slideplayer.com/17/5286187/#*\n",
    "\n",
    "**Identify conserved regions, that are of functional importance**\n",
    "\n",
    "<img src=\"images/weblogo36.png\" width=\"800\">"
   ]
  },
  {
   "cell_type": "markdown",
   "metadata": {},
   "source": [
    "# Alignment algorithms & Bioinformatics\n",
    "\n",
    "### ...and why they are my favorites!\n",
    "\n",
    "- Biological information is studied in sequences/arrays of letters, numbers and scores.\n",
    "- The sequence similarity is useful for:\n",
    "    1. assessing gene and protein **homology**\n",
    "    2. **classifying** genes and proteins by function\n",
    "    3. **predicting** biological function, secondary and tertiary protein structure\n",
    "    4. detecting point mutations (for e.g. in diseases)\n",
    "    5. constructing **evolutionary trees**, etc.\n",
    "\n",
    "**Alignment algorithms have revolutionized how we do Bioinformatics**\n",
    "\n",
    "- The pairwise alignment algorithms or dynamic programming and further development of scoring schemes allowed the most important tool **BLAST**: [Basic Local Alignment Search Tool](https://blast.ncbi.nlm.nih.gov/Blast.cgi) for **identifying similar sequences** from database of billions of sequences.\n",
    "\n",
    "<img src=\"images/blast.png\" width=\"800\">\n",
    "\n",
    "- The **Multiple Sequence Alignment help us deal with much larger datasets** effectively and characterizing them in functionally related clusters.\n",
    "    - Based on conserved short sequence, i.e. motifs and domain\n",
    "\n",
    "**Alignment algorithms are the underlying principle of next generation sequencing studies**\n",
    "\n",
    "- for e.g. genome, proteome, evolution, meta analysis, and -omics studies drive the entire biomedical field, contributing to the studies of **basic science, diseases, therapeutics** etc."
   ]
  },
  {
   "cell_type": "markdown",
   "metadata": {},
   "source": [
    "### Quick Reviewing of alignment algorithms\n",
    "\n",
    "**Scenario 1**\n",
    "\n",
    "Searching for similar protein sequence in a database by **pairwise alignments**.\n",
    "\n",
    "<img src=\"images/seq_space.png\" width=\"500\">\n",
    "\n",
    "**Scenario 2**\n",
    "\n",
    "Using **multiple alignment** of similar protein sequences of *known function groups* again new unknown proteins.\n",
    "\n",
    "<img src=\"images/protein_groups.png\" width=\"500\">\n",
    "\n",
    "**Scenario 3**\n",
    "\n",
    "**Predicting protein function** of a new sequence based on the annotation of proteins of *known functions*.\n",
    "\n",
    "<img src=\"images/protein_functions.png\" width=\"500\">\n",
    "\n",
    "*Image by Marco Punta, ICR London, EMBO PPPI course*"
   ]
  },
  {
   "cell_type": "markdown",
   "metadata": {},
   "source": [
    "# Alignment Algorithms & my PhD research\n",
    "\n",
    "**Part - 1**\n",
    "\n",
    "During my PhD, I developed a tool, [APRICOT: Analysing Protein-RNA Interaction using Computational Techniques](https://github.com/malvikasharan/APRICOT).\n",
    "\n",
    "<img src=\"images/apricot.png\" width=\"800\">\n",
    "\n",
    "- The tool is designed **identify similar proteins in bacteria** as the human proteins of known functions.\n",
    "- It is **trained on experimental datasets** of human RNA-Binding proteins.\n",
    "    - Can be adpated to identify proteins of different functional classes.\n",
    "- Uses **PSSM as one of the main scoring schemes** to identify conserved regions.\n",
    "- Uses **pairwise alignment of biochemical features** of human and bacteria conserved region.\n",
    "\n",
    "**Part - 2**\n",
    "\n",
    "Worked with 100s of next generation sequencing data (public and in-house) datasets of human and bacterial transcriptomes (RNA-Seq) to study:\n",
    "- Gene expression in **Host-pathogen interaction**\n",
    "- **Important genes during infections** by relevant pathogens such as *Salmonella*, *Shigella*, *Chlamydia*, and *Staphylococcus*.\n",
    "- Functions of **non-protein-coding RNAs**\n",
    "- Experimentally validating **APRICOT predicted RNA-binding proteins** in *Salmonella*"
   ]
  },
  {
   "cell_type": "markdown",
   "metadata": {},
   "source": [
    "# From learning bioinformatics to teaching!\n",
    "\n",
    "- I was introduced to these algorithms in my first bioinformatics course. \n",
    "- I took this topic up during my masters thesis to identify protein functions in evolutionarily divergent sequences.\n",
    "- These algorithms helped me conduct my PhD research.\n",
    "- In my current job as a community manager, I teach them both theroretically and programmatically!\n",
    "\n",
    "**Preparing this notebook was a great way to pay homage to these alignment algorithms 😇**\n",
    "\n",
    "<img src=\"images/thankyou.png\" width=\"500\">"
   ]
  }
 ],
 "metadata": {
  "kernelspec": {
   "display_name": "Python 3",
   "language": "python",
   "name": "python3"
  },
  "language_info": {
   "codemirror_mode": {
    "name": "ipython",
    "version": 3
   },
   "file_extension": ".py",
   "mimetype": "text/x-python",
   "name": "python",
   "nbconvert_exporter": "python",
   "pygments_lexer": "ipython3",
   "version": "3.6.0"
  }
 },
 "nbformat": 4,
 "nbformat_minor": 2
}
